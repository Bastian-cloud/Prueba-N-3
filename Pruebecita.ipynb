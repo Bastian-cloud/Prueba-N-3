{
  "nbformat": 4,
  "nbformat_minor": 0,
  "metadata": {
    "colab": {
      "provenance": []
    },
    "kernelspec": {
      "name": "python3",
      "display_name": "Python 3"
    },
    "language_info": {
      "name": "python"
    }
  },
  "cells": [
    {
      "cell_type": "markdown",
      "source": [
        "###PRUEBITA"
      ],
      "metadata": {
        "id": "g74trPKAHK5R"
      }
    },
    {
      "cell_type": "code",
      "source": [
        "import random\n",
        "\n",
        "print(\"Le damos una calida bienvenida a RCU(Registro Cuidadano de la Union europea)\")\n",
        "\n",
        "# Diccionario para almacenar los datos de las personas\n",
        "personas = {}\n",
        "\n",
        "# Ingresar datos de personas\n",
        "while True:\n",
        "    nif = input(\"Ingrese su NIF: \")\n",
        "    while len(nif) > 12:\n",
        "        print(\"Su NIF no puede superar los 12 caracteres.\")\n",
        "        nif = input(\"Ingrese su NIF de forma correcta: \")\n",
        "\n",
        "    nombre = input(\"Ingrese su nombre: \")\n",
        "    while len(nombre) > 8:\n",
        "        print(\"El nombre no debe tener más de 8 caracteres.\")\n",
        "        nombre = input(\"Ingrese su nombre: \")\n",
        "\n",
        "    edad = input(\"Ingrese su edad: \")\n",
        "    while not edad.isdigit() or int(edad) < 0:\n",
        "        print(\"La edad debe ser un número entero mayor o igual a 0.\")\n",
        "        edad = input(\"Ingrese su edad: \")\n",
        "\n",
        "    # Almacenar los datos de la persona en el diccionario\n",
        "    personas[nif] = {\n",
        "        \"Nombre\": nombre,\n",
        "        \"Edad\": edad\n",
        "    }\n",
        "\n",
        "    respuesta = input(\"¿Desea ingresar los datos de otra persona? (S/N): \")\n",
        "    if respuesta.upper() != \"S\":\n",
        "        break\n",
        "\n",
        "# Impresión de certificados\n",
        "while True:\n",
        "    print(\"\\nTipos de certificados disponibles:\")\n",
        "    print(\"1. Certificado de nacimiento\")\n",
        "    print(\"2. Certificado de estado conyugal\")\n",
        "    print(\"3. Certificado de pertenencia a la Unión Europea\")\n",
        "    print(\"4. Salir\")\n",
        "\n",
        "    opcion = input(\"Ingrese el número correspondiente al certificado que desea imprimir (1-4): \")\n",
        "\n",
        "    if opcion == \"1\":\n",
        "        nif_buscar = input(\"Ingrese el NIF de la persona a la que desea imprimir el certificado: \")\n",
        "        if nif_buscar in personas:\n",
        "            print(\"Certificado de nacimiento\")\n",
        "            print(\"Nombre:\", personas[nif_buscar][\"Nombre\"])\n",
        "            print(\"Fecha de nacimiento:\", random.randint(1, 31), \"-\", random.randint(1, 12), \"-\", random.randint(1950, 2020))\n",
        "            print(\"Lugar de nacimiento: Ciudad Aleatoria\")\n",
        "        else:\n",
        "            print(\"No se encontró información para el NIF ingresado.\")\n",
        "    elif opcion == \"2\":\n",
        "        nif_buscar = input(\"Ingrese el NIF de la persona a la que desea imprimir el certificado: \")\n",
        "        if nif_buscar in personas:\n",
        "            print(\"Certificado de estado conyugal\")\n",
        "            print(\"Nombre:\", personas[nif_buscar][\"Nombre\"])\n",
        "            estado_civil = random.choice([\"Soltero/a\", \"Casado/a\", \"Divorciado/a\", \"Viudo/a\"])\n",
        "            print(\"Estado conyugal:\", estado_civil)\n",
        "        else:\n",
        "            print(\"No se encontró información para el NIF ingresado.\")\n",
        "    elif opcion == \"3\":\n",
        "        nif_buscar = input(\"Ingrese el NIF de la persona a la que desea imprimir el certificado: \")\n",
        "        if nif_buscar in personas:\n",
        "            print(\"Certificado de pertenencia a la Unión Europea\")\n",
        "            print(\"Nombre:\", personas[nif_buscar][\"Nombre\"])\n",
        "            if nif_buscar.startswith(\"ES\"):\n",
        "                print(\"Esta persona pertenece a la Unión Europea.\")\n",
        "            else:\n",
        "                print(\"Esta persona no pertenece\")\n",
        "    elif opcion == \"4\":\n",
        "      print(\"Muchas gracias por preferirnos RCU(Registro Cuidadano de la Union europea)\")\n",
        "      break"
      ],
      "metadata": {
        "id": "Ts3UpwPPIQhh"
      },
      "execution_count": null,
      "outputs": []
    }
  ]
}